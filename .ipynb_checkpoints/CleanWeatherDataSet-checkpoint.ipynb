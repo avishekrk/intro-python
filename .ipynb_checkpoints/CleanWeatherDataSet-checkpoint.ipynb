{
 "cells": [
  {
   "cell_type": "markdown",
   "metadata": {},
   "source": [
    "Notebook for cleaning the OHARE Dataset for the intro the python lesson"
   ]
  },
  {
   "cell_type": "code",
   "execution_count": 1,
   "metadata": {
    "collapsed": true
   },
   "outputs": [],
   "source": [
    "import numpy as np\n",
    "import matplotlib.pyplot as plt\n",
    "import pandas as pd\n",
    "import seaborn as sns\n",
    "%matplotlib inline"
   ]
  },
  {
   "cell_type": "code",
   "execution_count": 2,
   "metadata": {
    "collapsed": true
   },
   "outputs": [],
   "source": [
    "df_chicago_weather = pd.read_csv('OHARE_WEATHER_2015.csv')"
   ]
  },
  {
   "cell_type": "code",
   "execution_count": 3,
   "metadata": {
    "collapsed": false
   },
   "outputs": [
    {
     "data": {
      "text/html": [
       "<div>\n",
       "<table border=\"1\" class=\"dataframe\">\n",
       "  <thead>\n",
       "    <tr style=\"text-align: right;\">\n",
       "      <th></th>\n",
       "      <th>STATION</th>\n",
       "      <th>STATION_NAME</th>\n",
       "      <th>DATE</th>\n",
       "      <th>PRCP</th>\n",
       "      <th>SNWD</th>\n",
       "      <th>SNOW</th>\n",
       "      <th>TAVG</th>\n",
       "      <th>TMAX</th>\n",
       "      <th>TMIN</th>\n",
       "      <th>AWND</th>\n",
       "      <th>...</th>\n",
       "      <th>WSF2</th>\n",
       "      <th>WSF5</th>\n",
       "      <th>WT09</th>\n",
       "      <th>WT01</th>\n",
       "      <th>WT06</th>\n",
       "      <th>WT05</th>\n",
       "      <th>WT02</th>\n",
       "      <th>WT04</th>\n",
       "      <th>WT08</th>\n",
       "      <th>WT03</th>\n",
       "    </tr>\n",
       "  </thead>\n",
       "  <tbody>\n",
       "    <tr>\n",
       "      <th>0</th>\n",
       "      <td>GHCND:USW00094846</td>\n",
       "      <td>CHICAGO OHARE INTERNATIONAL AIRPORT IL US</td>\n",
       "      <td>20150101</td>\n",
       "      <td>0.00</td>\n",
       "      <td>0.0</td>\n",
       "      <td>0.0</td>\n",
       "      <td>20</td>\n",
       "      <td>32</td>\n",
       "      <td>14</td>\n",
       "      <td>14.5</td>\n",
       "      <td>...</td>\n",
       "      <td>23.9</td>\n",
       "      <td>30.0</td>\n",
       "      <td>-9999</td>\n",
       "      <td>-9999</td>\n",
       "      <td>-9999</td>\n",
       "      <td>-9999</td>\n",
       "      <td>-9999</td>\n",
       "      <td>-9999</td>\n",
       "      <td>-9999</td>\n",
       "      <td>-9999</td>\n",
       "    </tr>\n",
       "    <tr>\n",
       "      <th>1</th>\n",
       "      <td>GHCND:USW00094846</td>\n",
       "      <td>CHICAGO OHARE INTERNATIONAL AIRPORT IL US</td>\n",
       "      <td>20150102</td>\n",
       "      <td>0.00</td>\n",
       "      <td>0.0</td>\n",
       "      <td>0.0</td>\n",
       "      <td>26</td>\n",
       "      <td>34</td>\n",
       "      <td>15</td>\n",
       "      <td>4.7</td>\n",
       "      <td>...</td>\n",
       "      <td>12.1</td>\n",
       "      <td>13.0</td>\n",
       "      <td>-9999</td>\n",
       "      <td>-9999</td>\n",
       "      <td>-9999</td>\n",
       "      <td>-9999</td>\n",
       "      <td>-9999</td>\n",
       "      <td>-9999</td>\n",
       "      <td>-9999</td>\n",
       "      <td>-9999</td>\n",
       "    </tr>\n",
       "    <tr>\n",
       "      <th>2</th>\n",
       "      <td>GHCND:USW00094846</td>\n",
       "      <td>CHICAGO OHARE INTERNATIONAL AIRPORT IL US</td>\n",
       "      <td>20150103</td>\n",
       "      <td>0.57</td>\n",
       "      <td>0.0</td>\n",
       "      <td>0.4</td>\n",
       "      <td>31</td>\n",
       "      <td>34</td>\n",
       "      <td>29</td>\n",
       "      <td>5.6</td>\n",
       "      <td>...</td>\n",
       "      <td>13.0</td>\n",
       "      <td>14.1</td>\n",
       "      <td>-9999</td>\n",
       "      <td>1</td>\n",
       "      <td>1</td>\n",
       "      <td>-9999</td>\n",
       "      <td>-9999</td>\n",
       "      <td>1</td>\n",
       "      <td>-9999</td>\n",
       "      <td>-9999</td>\n",
       "    </tr>\n",
       "    <tr>\n",
       "      <th>3</th>\n",
       "      <td>GHCND:USW00094846</td>\n",
       "      <td>CHICAGO OHARE INTERNATIONAL AIRPORT IL US</td>\n",
       "      <td>20150104</td>\n",
       "      <td>0.13</td>\n",
       "      <td>1.2</td>\n",
       "      <td>2.2</td>\n",
       "      <td>29</td>\n",
       "      <td>33</td>\n",
       "      <td>2</td>\n",
       "      <td>15.9</td>\n",
       "      <td>...</td>\n",
       "      <td>25.9</td>\n",
       "      <td>31.1</td>\n",
       "      <td>1</td>\n",
       "      <td>1</td>\n",
       "      <td>-9999</td>\n",
       "      <td>-9999</td>\n",
       "      <td>-9999</td>\n",
       "      <td>-9999</td>\n",
       "      <td>1</td>\n",
       "      <td>-9999</td>\n",
       "    </tr>\n",
       "    <tr>\n",
       "      <th>4</th>\n",
       "      <td>GHCND:USW00094846</td>\n",
       "      <td>CHICAGO OHARE INTERNATIONAL AIRPORT IL US</td>\n",
       "      <td>20150105</td>\n",
       "      <td>0.15</td>\n",
       "      <td>2.0</td>\n",
       "      <td>1.8</td>\n",
       "      <td>2</td>\n",
       "      <td>6</td>\n",
       "      <td>-3</td>\n",
       "      <td>10.3</td>\n",
       "      <td>...</td>\n",
       "      <td>21.9</td>\n",
       "      <td>25.9</td>\n",
       "      <td>-9999</td>\n",
       "      <td>1</td>\n",
       "      <td>-9999</td>\n",
       "      <td>-9999</td>\n",
       "      <td>-9999</td>\n",
       "      <td>-9999</td>\n",
       "      <td>1</td>\n",
       "      <td>-9999</td>\n",
       "    </tr>\n",
       "  </tbody>\n",
       "</table>\n",
       "<p>5 rows × 22 columns</p>\n",
       "</div>"
      ],
      "text/plain": [
       "             STATION                               STATION_NAME      DATE  \\\n",
       "0  GHCND:USW00094846  CHICAGO OHARE INTERNATIONAL AIRPORT IL US  20150101   \n",
       "1  GHCND:USW00094846  CHICAGO OHARE INTERNATIONAL AIRPORT IL US  20150102   \n",
       "2  GHCND:USW00094846  CHICAGO OHARE INTERNATIONAL AIRPORT IL US  20150103   \n",
       "3  GHCND:USW00094846  CHICAGO OHARE INTERNATIONAL AIRPORT IL US  20150104   \n",
       "4  GHCND:USW00094846  CHICAGO OHARE INTERNATIONAL AIRPORT IL US  20150105   \n",
       "\n",
       "   PRCP  SNWD  SNOW  TAVG  TMAX  TMIN  AWND  ...   WSF2  WSF5  WT09  WT01  \\\n",
       "0  0.00   0.0   0.0    20    32    14  14.5  ...   23.9  30.0 -9999 -9999   \n",
       "1  0.00   0.0   0.0    26    34    15   4.7  ...   12.1  13.0 -9999 -9999   \n",
       "2  0.57   0.0   0.4    31    34    29   5.6  ...   13.0  14.1 -9999     1   \n",
       "3  0.13   1.2   2.2    29    33     2  15.9  ...   25.9  31.1     1     1   \n",
       "4  0.15   2.0   1.8     2     6    -3  10.3  ...   21.9  25.9 -9999     1   \n",
       "\n",
       "   WT06  WT05  WT02  WT04  WT08  WT03  \n",
       "0 -9999 -9999 -9999 -9999 -9999 -9999  \n",
       "1 -9999 -9999 -9999 -9999 -9999 -9999  \n",
       "2     1 -9999 -9999     1 -9999 -9999  \n",
       "3 -9999 -9999 -9999 -9999     1 -9999  \n",
       "4 -9999 -9999 -9999 -9999     1 -9999  \n",
       "\n",
       "[5 rows x 22 columns]"
      ]
     },
     "execution_count": 3,
     "metadata": {},
     "output_type": "execute_result"
    }
   ],
   "source": [
    "df_chicago_weather.head()"
   ]
  },
  {
   "cell_type": "markdown",
   "metadata": {},
   "source": [
    "For the intro to python lesson lets grab the `DATE` and `TAVG` fields. "
   ]
  },
  {
   "cell_type": "code",
   "execution_count": 5,
   "metadata": {
    "collapsed": false
   },
   "outputs": [],
   "source": [
    "np_data = df_chicago_weather[['DATE', 'TAVG']].values"
   ]
  },
  {
   "cell_type": "markdown",
   "metadata": {},
   "source": [
    "We can then save the data as a CSV files. "
   ]
  },
  {
   "cell_type": "code",
   "execution_count": 9,
   "metadata": {
    "collapsed": false
   },
   "outputs": [],
   "source": [
    "np.savetxt('OHARE_TEMP_2015.csv',np_data,delimiter=',')"
   ]
  }
 ],
 "metadata": {
  "kernelspec": {
   "display_name": "Python 3",
   "language": "python",
   "name": "python3"
  },
  "language_info": {
   "codemirror_mode": {
    "name": "ipython",
    "version": 3
   },
   "file_extension": ".py",
   "mimetype": "text/x-python",
   "name": "python",
   "nbconvert_exporter": "python",
   "pygments_lexer": "ipython3",
   "version": "3.5.1+"
  }
 },
 "nbformat": 4,
 "nbformat_minor": 1
}
